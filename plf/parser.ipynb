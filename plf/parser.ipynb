{
 "cells": [
  {
   "cell_type": "markdown",
   "metadata": {},
   "source": [
    "# Aggrégation des fichiers de data.gouv.fr pour les PLF et PLR"
   ]
  },
  {
   "cell_type": "code",
   "execution_count": 1,
   "metadata": {},
   "outputs": [],
   "source": [
    "import csv\n",
    "import json\n",
    "import os\n",
    "import re\n",
    "\n",
    "from tqdm import tqdm"
   ]
  },
  {
   "cell_type": "markdown",
   "metadata": {},
   "source": [
    "## Décodage des fichiers\n",
    "Réécrire les fichier dans un encoding compatible `UTF-8`."
   ]
  },
  {
   "cell_type": "code",
   "execution_count": 28,
   "metadata": {},
   "outputs": [],
   "source": [
    "years = ['2017', '2018', '2019']"
   ]
  },
  {
   "cell_type": "code",
   "execution_count": 29,
   "metadata": {},
   "outputs": [],
   "source": [
    "for year in years:\n",
    "    RAW_FOLDER = './raw_data/plf_{}'.format(year)\n",
    "    DECODED_FOLDER = './decoded_data/plf_{}'.format(year)\n",
    "\n",
    "    if not os.path.exists(DECODED_FOLDER):\n",
    "        os.makedirs(DECODED_FOLDER)\n",
    "    \n",
    "    for fileName in os.listdir(RAW_FOLDER):\n",
    "        os.system('iconv -f ISO-8859-1 -t UTF-8 {} > {}'.format(os.path.join(RAW_FOLDER, fileName), os.path.join(DECODED_FOLDER, fileName)))"
   ]
  },
  {
   "cell_type": "markdown",
   "metadata": {},
   "source": [
    "## PLF"
   ]
  },
  {
   "cell_type": "markdown",
   "metadata": {},
   "source": [
    "Pour une année donnée, on récupère les **Autorisations d'engagements** et les **Crédits de Paiement** par `Type de mission` > `Mission` > `Programme` > `Action` > `Sous-action`.\n",
    "\n",
    "Le but est de générer un fichier avec les colonnes suivantes :<br>\n",
    "`Type de mission` ; `Code Type de Mission` ; `Mission` ; `Code Mission` ; `Programme` ; `Code Programme` ; `Action` ; `Code Action` ; `Sosu-action` ; `Code sous-action` ; `Autorisations d'engagements` ; `Crédits de paiement`"
   ]
  },
  {
   "cell_type": "markdown",
   "metadata": {},
   "source": [
    "Voici la liste des `Code Type de mission`, déduits des données récupérées lors du hackathon Datafin :"
   ]
  },
  {
   "cell_type": "code",
   "execution_count": 2,
   "metadata": {},
   "outputs": [],
   "source": [
    "type_de_mission_to_code = {\n",
    "    \"Budget général\": \"1\",\n",
    "    \"Budgets annexes\": \"2\",\n",
    "    \"Comptes d'affectation spéciale\": \"3\",\n",
    "    \"Comptes de concours financiers\": \"4\"\n",
    "}"
   ]
  },
  {
   "cell_type": "markdown",
   "metadata": {},
   "source": [
    "### 2019"
   ]
  },
  {
   "cell_type": "code",
   "execution_count": 16,
   "metadata": {},
   "outputs": [],
   "source": [
    "SOURCE_FOLDER = './decoded_data/plf_2019'\n",
    "TARGET_FOLDER = './parsed_data'\n",
    "TARGET_FILE = 'plf_2019.csv'\n",
    "\n",
    "type_de_mission_to_filename = {\n",
    "    \"Budget général\": \"bg\",\n",
    "    \"Budgets annexes\": \"ba\",\n",
    "    \"Comptes d'affectation spéciale\": \"cs\",\n",
    "    \"Comptes de concours financiers\": \"cf\"\n",
    "}"
   ]
  },
  {
   "cell_type": "code",
   "execution_count": 17,
   "metadata": {},
   "outputs": [],
   "source": [
    "mission_to_code = {}\n",
    "\n",
    "with open(os.path.join(SOURCE_FOLDER, 'plf2019-nomenclature-mpa.csv'), 'r') as csv_file:\n",
    "    csv_reader = csv.reader(csv_file, delimiter=';')\n",
    "    # On saute la première ligne parce que c'est un header\n",
    "    next(csv_reader, None)\n",
    "\n",
    "    for row in csv_reader:\n",
    "        code_mission = row[2]\n",
    "        mission = row[3]\n",
    "\n",
    "        mission_to_code[mission] = code_mission"
   ]
  },
  {
   "cell_type": "code",
   "execution_count": 18,
   "metadata": {},
   "outputs": [],
   "source": [
    "credits_paiement_total = 0\n",
    "autorisations_engagement_total = 0\n",
    "\n",
    "with open(os.path.join(TARGET_FOLDER, TARGET_FILE), 'w+') as output_file:\n",
    "    # Écrire les headers\n",
    "    output_file.write(\"Type de mission;Code type de mission;Mission;Code mission;Programme;\" +\\\n",
    "                      \"Code programme;Action;Code action;Sous-action;Code sous-action;\" +\\\n",
    "                      \"Autorisations d'engagement;Crédits de paiement\\n\")\n",
    "\n",
    "    # On ouvre chacun des fichiers...\n",
    "    for type_de_mission in type_de_mission_to_code:\n",
    "        code_type_de_mission = type_de_mission_to_code[type_de_mission]\n",
    "        code_filename = type_de_mission_to_filename[type_de_mission]\n",
    "\n",
    "        with open(os.path.join(\n",
    "            SOURCE_FOLDER,\n",
    "            'plf2019-{}-msn-dest.csv'.format(code_filename)), 'r') as csv_file:\n",
    "            \n",
    "            csv_reader = csv.reader(csv_file, delimiter=';')\n",
    "            # On saute la première ligne parce que c'est un header\n",
    "            next(csv_reader, None)\n",
    "\n",
    "            for index, row in enumerate(csv_reader):\n",
    "                # Petite subtilité pour le cas 2019, certains documents csv ont trop de lignes (il y a des lignes vides à la fin)\n",
    "                if (row[2] == ''):\n",
    "                    continue\n",
    "                    \n",
    "                autorisations_engagement = int(row[9].replace(' ', '')) if row[9].replace(' ', '') != '' else 0\n",
    "                autorisations_engagement_total += autorisations_engagement\n",
    "                credits_paiement = int(row[10].replace(' ', '')) if row[10].replace(' ', '') != '' else 0\n",
    "                credits_paiement_total += credits_paiement\n",
    "\n",
    "                # On écrit dans le fichier cible toutes les informations utiles\n",
    "                output_file.write('{};{};{};{};{};{};{};{};{};{};{};{}\\n'.format(\n",
    "                    type_de_mission,\n",
    "                    code_type_de_mission,\n",
    "                    row[2],\n",
    "                    mission_to_code[row[2]],\n",
    "                    row[4],\n",
    "                    row[3],\n",
    "                    row[6],\n",
    "                    row[5],\n",
    "                    row[8],\n",
    "                    row[7],\n",
    "                    autorisations_engagement,\n",
    "                    credits_paiement\n",
    "                ))\n",
    "\n",
    "print(credits_paiement_total, autorisations_engagement_total)"
   ]
  },
  {
   "cell_type": "markdown",
   "metadata": {},
   "source": [
    "### 2018"
   ]
  },
  {
   "cell_type": "markdown",
   "metadata": {},
   "source": [
    "**Il manque le code mission dans tous les fichiers**, j'ai dû utiliser les nomenclatures que j'avais récupérées pendant le hackathon Datafin."
   ]
  },
  {
   "cell_type": "code",
   "execution_count": 29,
   "metadata": {},
   "outputs": [],
   "source": [
    "SOURCE_FOLDER = './decoded_data/plf_2018'\n",
    "TARGET_FOLDER = './parsed_data'\n",
    "TARGET_FILE = 'plf_2018_ok.csv'\n",
    "\n",
    "type_de_mission_to_filename = {\n",
    "    \"Budget général\": \"BG\",\n",
    "    \"Budgets annexes\": \"BA\",\n",
    "    \"Comptes d'affectation spéciale\": \"CS\",\n",
    "    \"Comptes de concours financiers\": \"CF\"\n",
    "}"
   ]
  },
  {
   "cell_type": "code",
   "execution_count": 30,
   "metadata": {},
   "outputs": [],
   "source": [
    "mission_to_code = {}\n",
    "code_to_programme = {}\n",
    "\n",
    "with open(os.path.join('./raw_data/nomenclatures_plf/2018.csv'), 'r') as csv_file:\n",
    "    csv_reader = csv.reader(csv_file, delimiter=',')\n",
    "    # On saute la première ligne parce que c'est un header\n",
    "    next(csv_reader, None)\n",
    "\n",
    "    for row in csv_reader:\n",
    "        code_mission = row[3]\n",
    "        mission = row[4]\n",
    "        code_programme = row[5]\n",
    "        programme = row[6]\n",
    "\n",
    "        mission_to_code[mission] = code_mission\n",
    "        code_to_programme[code_programme] = programme"
   ]
  },
  {
   "cell_type": "code",
   "execution_count": 33,
   "metadata": {},
   "outputs": [],
   "source": [
    "credits_paiement_total = 0\n",
    "autorisations_engagement_total = 0\n",
    "\n",
    "with open(os.path.join(TARGET_FOLDER, TARGET_FILE), 'w+') as output_file:\n",
    "    # Écrire les headers\n",
    "    output_file.write(\"Type de mission;Code type de mission;Mission;Code mission;Programme;\" +\\\n",
    "                      \"Code programme;Action;Code action;Sous-action;Code sous-action;\" +\\\n",
    "                      \"Autorisations d'engagement;Crédits de paiement\\n\")\n",
    "\n",
    "    # On ouvre chacun des fichiers...\n",
    "    for type_de_mission in type_de_mission_to_code:\n",
    "        code_type_de_mission = type_de_mission_to_code[type_de_mission]\n",
    "        code_filename = type_de_mission_to_filename[type_de_mission]\n",
    "\n",
    "        with open(os.path.join(\n",
    "            SOURCE_FOLDER,\n",
    "            'PLF2018-{}-Msn-Dest.csv'.format(code_filename)), 'r') as csv_file:\n",
    "            \n",
    "            csv_reader = csv.reader(csv_file, delimiter=';')\n",
    "            # On saute les headers (4 lignes)\n",
    "            for i in range(4):\n",
    "                next(csv_reader, None)\n",
    "\n",
    "            for index, row in enumerate(csv_reader):\n",
    "                # Petite subtilité pour le cas 2019, certains documents csv ont trop de lignes (il y a des lignes vides à la fin)\n",
    "                if (row[2] == ''):\n",
    "                    continue\n",
    "                    \n",
    "                autorisations_engagement = int(row[7].replace(' ', '')) if row[7].replace(' ', '') != '' else 0\n",
    "                autorisations_engagement_total += autorisations_engagement\n",
    "                credits_paiement = int(row[9].replace(' ', '')) if row[9].replace(' ', '') != '' else 0\n",
    "                credits_paiement_total += credits_paiement\n",
    "\n",
    "                # On écrit dans le fichier cible toutes les informations utiles\n",
    "                output_file.write('{};{};{};{};{};{};{};{};{};{};{};{}\\n'.format(\n",
    "                    type_de_mission,\n",
    "                    code_type_de_mission,\n",
    "                    row[0],\n",
    "                    mission_to_code[row[0]],\n",
    "                    code_to_programme[row[1]] if row[1] in code_to_programme else '',\n",
    "                    row[1],\n",
    "                    row[3],\n",
    "                    row[2],\n",
    "                    row[5],\n",
    "                    row[4],\n",
    "                    autorisations_engagement,\n",
    "                    credits_paiement\n",
    "                ))\n",
    "\n",
    "print(credits_paiement_total, autorisations_engagement_total)"
   ]
  },
  {
   "cell_type": "markdown",
   "metadata": {},
   "source": [
    "## 2017"
   ]
  },
  {
   "cell_type": "code",
   "execution_count": 5,
   "metadata": {},
   "outputs": [],
   "source": [
    "SOURCE_FOLDER = './decoded_data/plf_2017'\n",
    "TARGET_FOLDER = './parsed_data'\n",
    "TARGET_FILE = 'plf_2017.csv'\n",
    "\n",
    "type_de_mission_to_filename = {\n",
    "    \"Budget général\": \"BG\",\n",
    "    \"Budgets annexes\": \"BA\",\n",
    "    \"Comptes d'affectation spéciale\": \"CS\",\n",
    "    \"Comptes de concours financiers\": \"CF\"\n",
    "}"
   ]
  },
  {
   "cell_type": "code",
   "execution_count": 6,
   "metadata": {},
   "outputs": [],
   "source": [
    "mission_to_code = {}\n",
    "code_to_programme = {}\n",
    "\n",
    "with open(os.path.join('./raw_data/nomenclatures_plf/2017.csv'), 'r') as csv_file:\n",
    "    csv_reader = csv.reader(csv_file, delimiter=',')\n",
    "    # On saute la première ligne parce que c'est un header\n",
    "    next(csv_reader, None)\n",
    "\n",
    "    for row in csv_reader:\n",
    "        code_mission = row[3]\n",
    "        mission = row[4]\n",
    "        code_programme = row[5]\n",
    "        programme = row[6]\n",
    "\n",
    "        mission_to_code[mission] = code_mission\n",
    "        code_to_programme[code_programme] = programme"
   ]
  },
  {
   "cell_type": "code",
   "execution_count": 7,
   "metadata": {},
   "outputs": [
    {
     "name": "stdout",
     "output_type": "stream",
     "text": [
      "358102288833 361757909049\n"
     ]
    }
   ],
   "source": [
    "credits_paiement_total = 0\n",
    "autorisations_engagement_total = 0\n",
    "\n",
    "with open(os.path.join(TARGET_FOLDER, TARGET_FILE), 'w+') as output_file:\n",
    "    # Écrire les headers\n",
    "    output_file.write(\"Type de mission;Code type de mission;Mission;Code mission;Programme;\" +\\\n",
    "                      \"Code programme;Action;Code action;Sous-action;Code sous-action;\" +\\\n",
    "                      \"Autorisations d'engagement;Crédits de paiement\\n\")\n",
    "\n",
    "    # On ouvre chacun des fichiers...\n",
    "    for type_de_mission in type_de_mission_to_code:\n",
    "        code_type_de_mission = type_de_mission_to_code[type_de_mission]\n",
    "        code_filename = type_de_mission_to_filename[type_de_mission]\n",
    "\n",
    "        with open(os.path.join(\n",
    "            SOURCE_FOLDER,\n",
    "            'PLF2017-{}-Msn-Dest.csv'.format(code_filename)), 'r') as csv_file:\n",
    "            \n",
    "            csv_reader = csv.reader(csv_file, delimiter=';')\n",
    "            # On saute les headers (4 lignes)\n",
    "            for i in range(4):\n",
    "                next(csv_reader, None)\n",
    "\n",
    "            for index, row in enumerate(csv_reader):\n",
    "                # Petite subtilité pour le cas 2019, certains documents csv ont trop de lignes (il y a des lignes vides à la fin)\n",
    "                if (row[2] == ''):\n",
    "                    continue\n",
    "                    \n",
    "                autorisations_engagement = int(row[7].replace(' ', '')) if row[7].replace(' ', '') != '' else 0\n",
    "                autorisations_engagement_total += autorisations_engagement\n",
    "                credits_paiement = int(row[9].replace(' ', '')) if row[9].replace(' ', '') != '' else 0\n",
    "                credits_paiement_total += credits_paiement\n",
    "\n",
    "                # On écrit dans le fichier cible toutes les informations utiles\n",
    "                output_file.write('{};{};{};{};{};{};{};{};{};{};{};{}\\n'.format(\n",
    "                    type_de_mission,\n",
    "                    code_type_de_mission,\n",
    "                    row[0],\n",
    "                    mission_to_code[row[0]],\n",
    "                    code_to_programme[row[1]] if row[1] in code_to_programme else '',\n",
    "                    row[1],\n",
    "                    row[3],\n",
    "                    row[2],\n",
    "                    row[5],\n",
    "                    row[4],\n",
    "                    autorisations_engagement,\n",
    "                    credits_paiement\n",
    "                ))\n",
    "\n",
    "print(credits_paiement_total, autorisations_engagement_total)"
   ]
  },
  {
   "cell_type": "markdown",
   "metadata": {},
   "source": [
    "### Tests génériques"
   ]
  },
  {
   "cell_type": "markdown",
   "metadata": {},
   "source": [
    "Vérifie que les lignes ont le bon nombre de colonnes."
   ]
  },
  {
   "cell_type": "code",
   "execution_count": 13,
   "metadata": {},
   "outputs": [],
   "source": [
    "def check_columns(filename):\n",
    "    with open(os.path.join(TARGET_FOLDER, filename), 'r') as csv_file:\n",
    "        csv_reader = csv.reader(csv_file, delimiter=';')\n",
    "\n",
    "        for index, row in enumerate(csv_reader):\n",
    "            try:\n",
    "                assert(len(row) == 12)\n",
    "            except:\n",
    "                print(\"Assertion error at line {}\".format(index))\n",
    "                print(*row)"
   ]
  },
  {
   "cell_type": "markdown",
   "metadata": {},
   "source": [
    "Vérifie qu'il n'y a pas CP ou d'AE vides."
   ]
  },
  {
   "cell_type": "code",
   "execution_count": 14,
   "metadata": {},
   "outputs": [],
   "source": [
    "def check_cp_ae(filename):\n",
    "    with open(os.path.join(TARGET_FOLDER, filename), 'r') as csv_file:\n",
    "        csv_reader = csv.reader(csv_file, delimiter=';')\n",
    "\n",
    "        for index, row in enumerate(csv_reader):\n",
    "            try:\n",
    "                assert(row[10] != '' and row[11] != '')\n",
    "            except:\n",
    "                print(\"Assertion error at line {}\".format(index))\n",
    "                print(row[10], row[11])"
   ]
  },
  {
   "cell_type": "markdown",
   "metadata": {},
   "source": [
    "##### Exécution des tests"
   ]
  },
  {
   "cell_type": "code",
   "execution_count": 15,
   "metadata": {},
   "outputs": [
    {
     "name": "stdout",
     "output_type": "stream",
     "text": [
      "PLF ok!\n"
     ]
    }
   ],
   "source": [
    "TEST_FILENAMES = [\n",
    "    'plf_2017.csv',\n",
    "    'plf_2018.csv',\n",
    "    'plf_2019.csv'\n",
    "]\n",
    "\n",
    "for filename in TEST_FILENAMES:\n",
    "    check_columns(filename)\n",
    "    check_cp_ae(filename)\n",
    "\n",
    "print('PLF ok!')"
   ]
  },
  {
   "cell_type": "markdown",
   "metadata": {},
   "source": [
    "### Construction de l'arbre de la visualisation D3"
   ]
  },
  {
   "cell_type": "code",
   "execution_count": 39,
   "metadata": {},
   "outputs": [],
   "source": [
    "def recSize(node, key, default_value=0):\n",
    "    # Si le noeud n'est pas une feuille, on calcule sa valeur récursivement.\n",
    "    if key not in node:\n",
    "        node[key] = sum(list(map(lambda x: recSize(x, key), node['children'])))\n",
    "\n",
    "    return node[key] if node[key] else default_value\n",
    "\n",
    "def build_flat_tree(d, node, accCode):\n",
    "    rnode = dict({\n",
    "        'ae': node['ae'],\n",
    "        'cp': node['cp'],\n",
    "        'name': node['name']\n",
    "    })\n",
    "    \n",
    "    key = \"{}-{}\".format(accCode, node['code']) if accCode != \"\" else node['code']\n",
    "    \n",
    "    d[key] = rnode\n",
    "    \n",
    "    if 'children' in node:\n",
    "        for child in node['children']:\n",
    "            build_flat_tree(d, child, key)\n",
    "\n",
    "def build_d3_hierarchy(source_folder, source_file, target_file_name, target_flat_file_name):\n",
    "    with open(os.path.join(source_folder, source_file), 'r') as csv_file:\n",
    "        with open(target_file_name, 'w+') as output_file:\n",
    "            csv_reader = csv.reader(csv_file, delimiter=';')\n",
    "            root_node = dict({\n",
    "                'name': 'PLF',\n",
    "                'children': [],\n",
    "                'code': 'PLF'\n",
    "            })\n",
    "\n",
    "            # Skip headers\n",
    "            next(csv_reader)\n",
    "\n",
    "    #         Ici, on parcourt les lignes du CSV une par une.\n",
    "    #         On consulte leur \"chemin\" (type de mission, mission, etc)\n",
    "    #         et on ajoute ce chemin à notre json.\n",
    "            for row in csv_reader:\n",
    "                current_node = root_node\n",
    "\n",
    "                type_mission = row[0]\n",
    "                mission = row[2]\n",
    "                programme = row[4]\n",
    "                action = row[6]\n",
    "                sous_action = row[8]\n",
    "\n",
    "                nodes = [field for field in [row[0], row[2], row[4], row[6], row[8]] if field != ''] \n",
    "                for node_index, node in enumerate(nodes):\n",
    "                    # On cherche si le chemin existe déjà.\n",
    "                    # S'il n'existe pas, on le crée.\n",
    "                    found = False\n",
    "                    for index, child in enumerate(current_node['children']):\n",
    "                        if child['name'] == node:\n",
    "                            current_node = current_node['children'][index]\n",
    "                            found = True\n",
    "                            break\n",
    "\n",
    "\n",
    "                    if not found:\n",
    "                        current_node['children'].append(dict({\n",
    "                            'name': node,\n",
    "                            'code': '-'.join([row[2*i+1] for i in range(node_index+1)])\n",
    "                        }))\n",
    "                        current_node = current_node['children'][-1]\n",
    "\n",
    "                        # Si le noeud n'est pas une feuille, il a des enfants...\n",
    "                        if node_index != len(nodes)-1:\n",
    "                            current_node['children'] = []\n",
    "                        # Sinon, il a des cp et des ae.\n",
    "                        else:\n",
    "                            current_node['cp'] = int(row[11])\n",
    "                            current_node['ae'] = int(row[10])\n",
    "                            current_node['size'] = int(row[11])\n",
    "\n",
    "            # On calcule des cp et les ae des noeuds qui ne\n",
    "            # sont pas des feuilles.\n",
    "            recSize(root_node, 'cp')\n",
    "            recSize(root_node, 'ae')\n",
    "            recSize(root_node, 'size')\n",
    "\n",
    "            # Output json file\n",
    "            json.dump(root_node, output_file)\n",
    "        \n",
    "        with open(target_flat_file_name, 'w+') as output_file:\n",
    "            d = dict()\n",
    "            for child in root_node['children']:\n",
    "                build_flat_tree(d, child, \"\")\n",
    "\n",
    "            json.dump(d, output_file)"
   ]
  },
  {
   "cell_type": "markdown",
   "metadata": {},
   "source": [
    "#### 2019"
   ]
  },
  {
   "cell_type": "code",
   "execution_count": 8,
   "metadata": {},
   "outputs": [],
   "source": [
    "SOURCE_FOLDER = './parsed_data'\n",
    "SOURCE_FILE = 'plf_2019.csv'\n",
    "TARGET_FILE = '../resources/plf_by_action/2019.json'\n",
    "TARGET_FLAT_FILE = './parsed_data/plf_2019_flat.json'"
   ]
  },
  {
   "cell_type": "code",
   "execution_count": 9,
   "metadata": {},
   "outputs": [],
   "source": [
    "build_d3_hierarchy(SOURCE_FOLDER, SOURCE_FILE, TARGET_FILE, TARGET_FLAT_FILE)"
   ]
  },
  {
   "cell_type": "markdown",
   "metadata": {},
   "source": [
    "Compute recettes"
   ]
  },
  {
   "cell_type": "code",
   "execution_count": 41,
   "metadata": {},
   "outputs": [],
   "source": [
    "with open('./decoded_data/plf_2019/plf2019-recettes-fiscales-etata.csv', 'r') as recettes:\n",
    "    csv_reader = csv.reader(recettes, delimiter=';')\n",
    "    next(csv_reader)\n",
    "    \n",
    "    root_node = dict({\n",
    "        'name': 'Recettes',\n",
    "        'children': [],\n",
    "        'code': 'REC'\n",
    "    })\n",
    "\n",
    "    for row in csv_reader:\n",
    "        line_number = row[0]\n",
    "        label = row[1]\n",
    "        montant = int(row[2].replace(\" \", '')) if row[2] else None\n",
    "\n",
    "        if line_number:\n",
    "            codes = [line_number[0], line_number[1], line_number[2:]]\n",
    "        else:\n",
    "            m = re.match('(.*)\\.\\s?(.*)', label)\n",
    "            codes = list(m.group(1))\n",
    "            label = m.group(2)\n",
    "\n",
    "        current_node = root_node\n",
    "        for code_index, code in enumerate(codes[:-1]):\n",
    "            for index, child in enumerate(current_node['children']):\n",
    "                if child['code'].startswith('-'.join(codes[:code_index+1])):\n",
    "                    current_node = current_node['children'][index]\n",
    "\n",
    "        if 'children' not in current_node:\n",
    "            current_node['children'] = []\n",
    "\n",
    "        current_node['children'].append(dict({\n",
    "            'name': label,\n",
    "            'code': '-'.join(codes),\n",
    "        }))\n",
    "\n",
    "        # Terrible workaround for finding tree leaves\n",
    "        if len(codes) == 3 or codes == ['4', '1']:\n",
    "            current_node['children'][-1]['size'] = montant\n",
    "\n",
    "    recSize(root_node, 'size')\n",
    "\n",
    "with open('../resources/recettes/2019.json', 'w') as output_file:\n",
    "    json.dump(root_node, output_file)"
   ]
  },
  {
   "cell_type": "markdown",
   "metadata": {},
   "source": [
    "#### 2018"
   ]
  },
  {
   "cell_type": "code",
   "execution_count": 11,
   "metadata": {},
   "outputs": [],
   "source": [
    "SOURCE_FOLDER = './parsed_data'\n",
    "SOURCE_FILE = 'plf_2018.csv'\n",
    "TARGET_FILE = '../resources/plf_by_action/2018.json'\n",
    "TARGET_FLAT_FILE = './parsed_data/plf_2018_flat.json'"
   ]
  },
  {
   "cell_type": "code",
   "execution_count": 12,
   "metadata": {},
   "outputs": [],
   "source": [
    "build_d3_hierarchy(SOURCE_FOLDER, SOURCE_FILE, TARGET_FILE, TARGET_FLAT_FILE)"
   ]
  },
  {
   "cell_type": "code",
   "execution_count": 42,
   "metadata": {},
   "outputs": [],
   "source": [
    "with open('./decoded_data/plf_2018/PLF2018-Recettes_fiscales-EtatA.csv', 'r') as recettes:\n",
    "    csv_reader = csv.reader(recettes, delimiter=';')\n",
    "    for _ in range(4):\n",
    "        next(csv_reader)\n",
    "    \n",
    "    root_node = dict({\n",
    "        'name': 'Recettes',\n",
    "        'children': [],\n",
    "        'code': 'REC'\n",
    "    })\n",
    "\n",
    "    for row in csv_reader:\n",
    "        line_number = row[0]\n",
    "        label = row[1]\n",
    "        montant = int(row[2].replace(\" \", '')) if row[2] else None\n",
    "\n",
    "        if line_number:\n",
    "            codes = [line_number[0], line_number[1], line_number[2:]]\n",
    "        else:\n",
    "            m = re.match('(.*)\\.\\s?(.*)', label)\n",
    "            codes = list(m.group(1))\n",
    "            label = m.group(2)\n",
    "\n",
    "        current_node = root_node\n",
    "        for code_index, code in enumerate(codes[:-1]):\n",
    "            for index, child in enumerate(current_node['children']):\n",
    "                if child['code'].startswith('-'.join(codes[:code_index+1])):\n",
    "                    current_node = current_node['children'][index]\n",
    "\n",
    "        if 'children' not in current_node:\n",
    "            current_node['children'] = []\n",
    "\n",
    "        current_node['children'].append(dict({\n",
    "            'name': label,\n",
    "            'code': '-'.join(codes),\n",
    "        }))\n",
    "\n",
    "        # Terrible workaround for finding tree leaves\n",
    "        if len(codes) == 3 or codes == ['4', '1']:\n",
    "            current_node['children'][-1]['size'] = montant\n",
    "\n",
    "    recSize(root_node, 'size')\n",
    "\n",
    "with open('../resources/recettes/2018.json', 'w') as output_file:\n",
    "    json.dump(root_node, output_file)"
   ]
  },
  {
   "cell_type": "markdown",
   "metadata": {},
   "source": [
    "#### 2017"
   ]
  },
  {
   "cell_type": "code",
   "execution_count": 13,
   "metadata": {},
   "outputs": [],
   "source": [
    "SOURCE_FOLDER = './parsed_data'\n",
    "SOURCE_FILE = 'plf_2017.csv'\n",
    "TARGET_FILE = '../resources/plf_by_action/2017.json'\n",
    "TARGET_FLAT_FILE = './parsed_data/plf_2017_flat.json'"
   ]
  },
  {
   "cell_type": "code",
   "execution_count": 14,
   "metadata": {},
   "outputs": [],
   "source": [
    "build_d3_hierarchy(SOURCE_FOLDER, SOURCE_FILE, TARGET_FILE, TARGET_FLAT_FILE)"
   ]
  },
  {
   "cell_type": "markdown",
   "metadata": {},
   "source": [
    "```Toute chose appartient à qui sait en jouir.```"
   ]
  }
 ],
 "metadata": {
  "kernelspec": {
   "display_name": "Python 3",
   "language": "python",
   "name": "python3"
  },
  "language_info": {
   "codemirror_mode": {
    "name": "ipython",
    "version": 3
   },
   "file_extension": ".py",
   "mimetype": "text/x-python",
   "name": "python",
   "nbconvert_exporter": "python",
   "pygments_lexer": "ipython3",
   "version": "3.6.4"
  }
 },
 "nbformat": 4,
 "nbformat_minor": 2
}
