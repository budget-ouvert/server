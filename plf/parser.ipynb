{
 "cells": [
  {
   "cell_type": "markdown",
   "metadata": {},
   "source": [
    "# Aggrégation des fichiers de data.gouv.fr pour les PLF et PLR"
   ]
  },
  {
   "cell_type": "code",
   "execution_count": 1,
   "metadata": {},
   "outputs": [],
   "source": [
    "import csv\n",
    "import os\n",
    "\n",
    "from tqdm import tqdm"
   ]
  },
  {
   "cell_type": "markdown",
   "metadata": {},
   "source": [
    "## Décodage des fichiers\n",
    "Les fichiers ne sont pas dans le bon encoding, il faut les réécrire."
   ]
  },
  {
   "cell_type": "code",
   "execution_count": 2,
   "metadata": {},
   "outputs": [],
   "source": [
    "RAW_FOLDER = './raw_data/plf_2019'\n",
    "DECODED_FOLDER = './decoded_data/plf_2019'\n",
    "\n",
    "if not os.path.exists(DECODED_FOLDER):\n",
    "    os.makedirs(DECODED_FOLDER)"
   ]
  },
  {
   "cell_type": "code",
   "execution_count": 3,
   "metadata": {},
   "outputs": [],
   "source": [
    "for fileName in os.listdir(RAW_FOLDER):\n",
    "    os.system('iconv -f ISO-8859-1 -t UTF-8 {} > {}'.format(os.path.join(RAW_FOLDER, fileName), os.path.join(DECODED_FOLDER, fileName)))"
   ]
  },
  {
   "cell_type": "markdown",
   "metadata": {},
   "source": [
    "## PLF"
   ]
  },
  {
   "cell_type": "markdown",
   "metadata": {},
   "source": [
    "Pour une année donnée, on récupère les **Autorisations d'engagements** et les **Crédits de Paiement** par `Type de mission` > `Mission` > `Programme` > `Action`.\n",
    "\n",
    "Le but est de générer un fichier avec les colonnes suivantes :<br>\n",
    "`Type de mission` ; `Code Type de Mission` ; `Mission` ; `Code Mission` ; `Programme` ; `Code Programme` ; `Action` ; `Code Action` ; `Autorisations d'engagements` ; `Crédits de paiement`"
   ]
  },
  {
   "cell_type": "markdown",
   "metadata": {},
   "source": [
    "### 2019"
   ]
  },
  {
   "cell_type": "code",
   "execution_count": 4,
   "metadata": {},
   "outputs": [],
   "source": [
    "SOURCE_FOLDER = './decoded_data/plf_2019'\n",
    "TARGET_FOLDER = './parsed_data'\n",
    "\n",
    "type_de_mission_to_code = {\n",
    "    \"Budget général\": \"BG\",\n",
    "    \"Budgets annexes\": \"BA\",\n",
    "    \"Comptes d'affectation spéciale\": \"CS\",\n",
    "    \"Comptes de concours financiers\": \"CF\"\n",
    "}"
   ]
  },
  {
   "cell_type": "code",
   "execution_count": 5,
   "metadata": {},
   "outputs": [],
   "source": [
    "mission_to_code = {}\n",
    "\n",
    "with open(os.path.join(SOURCE_FOLDER, 'plf2019-nomenclature-mpa.csv'), 'r') as csv_file:\n",
    "    csv_reader = csv.reader(csv_file, delimiter=';')\n",
    "    # On saute la première ligne parce que c'est un header\n",
    "    next(csv_reader, None)\n",
    "\n",
    "    for row in csv_reader:\n",
    "        code_mission = row[2]\n",
    "        mission = row[3]\n",
    "\n",
    "        mission_to_code[mission] = code_mission"
   ]
  },
  {
   "cell_type": "code",
   "execution_count": 20,
   "metadata": {},
   "outputs": [],
   "source": [
    "type_de_mission_to_filename = {\n",
    "    \"Budget général\": \"bg\",\n",
    "    \"Budgets annexes\": \"ba\",\n",
    "    \"Comptes d'affectation spéciale\": \"cs\",\n",
    "    \"Comptes de concours financiers\": \"cf\"\n",
    "}\n",
    "\n",
    "with open(os.path.join(TARGET_FOLDER, 'plf_2019.csv'), 'w+') as output_file:\n",
    "    # Écrire les headers\n",
    "    output_file.write(\"Type de mission;Code type de mission;Mission;Code mission;Programme;Code programme;Action;Code action;Autorisations d'engagement;Crédits de paiement\\n\")\n",
    "\n",
    "    # On ouvre chacun des fichiers...\n",
    "    for type_de_mission in type_de_mission_to_code:\n",
    "        code_type_de_mission = type_de_mission_to_code[type_de_mission]\n",
    "        code_filename = type_de_mission_to_filename[type_de_mission]\n",
    "\n",
    "        with open(os.path.join(\n",
    "            SOURCE_FOLDER,\n",
    "            'plf2019-{}-msn-dest.csv'.format(code_filename)), 'r') as csv_file:\n",
    "            \n",
    "            csv_reader = csv.reader(csv_file, delimiter=';')\n",
    "            # On saute la première ligne parce que c'est un header\n",
    "            next(csv_reader, None)\n",
    "            \n",
    "            for index, row in enumerate(csv_reader):\n",
    "                # Petite subtilité pour le cas 2019, certains documents csv ont trop de lignes (il y a des lignes vides à la fin)\n",
    "                if (row[2] == ''):\n",
    "                    continue\n",
    "                    \n",
    "                autorisations_engagement = int(row[9].replace(' ', '')) if row[9].replace(' ', '') != '' else 0\n",
    "                credits_paiement = int(row[10].replace(' ', '')) if row[10].replace(' ', '') != '' else 0\n",
    "\n",
    "                # On écrit dans le fichier cible toutes les informations utiles\n",
    "                output_file.write('{};{};{};{};{};{};{};{};{};{}\\n'.format(\n",
    "                    type_de_mission,\n",
    "                    code_type_de_mission,\n",
    "                    row[2],\n",
    "                    mission_to_code[row[2]],\n",
    "                    row[4],\n",
    "                    row[3],\n",
    "                    row[6],\n",
    "                    row[5],\n",
    "                    autorisations_engagement,\n",
    "                    credits_paiement\n",
    "                ))"
   ]
  },
  {
   "cell_type": "markdown",
   "metadata": {},
   "source": [
    "### Tests génériques"
   ]
  },
  {
   "cell_type": "code",
   "execution_count": 21,
   "metadata": {},
   "outputs": [],
   "source": [
    "TEST_FILENAME = 'plf_2019.csv'"
   ]
  },
  {
   "cell_type": "markdown",
   "metadata": {},
   "source": [
    "Vérifie que les lignes ont le bon nombre de colonnes."
   ]
  },
  {
   "cell_type": "code",
   "execution_count": 22,
   "metadata": {},
   "outputs": [],
   "source": [
    "with open(os.path.join(TARGET_FOLDER, TEST_FILENAME), 'r') as csv_file:\n",
    "    csv_reader = csv.reader(csv_file, delimiter=';')\n",
    "\n",
    "    for index, row in enumerate(csv_reader):\n",
    "        try:\n",
    "            assert(len(row) == 10)\n",
    "        except:\n",
    "            print(\"Assertion error at line {}\".format(index))\n",
    "            print(*row)"
   ]
  },
  {
   "cell_type": "markdown",
   "metadata": {},
   "source": [
    "Vérifie qu'il n'y a pas d'action, de CP ou d'AE vides."
   ]
  },
  {
   "cell_type": "code",
   "execution_count": 23,
   "metadata": {},
   "outputs": [],
   "source": [
    "with open(os.path.join(TARGET_FOLDER, TEST_FILENAME), 'r') as csv_file:\n",
    "    csv_reader = csv.reader(csv_file, delimiter=';')\n",
    "\n",
    "    for index, row in enumerate(csv_reader):\n",
    "        try:\n",
    "            assert(row[6] != '' and row[8] != '' and row[9] != '')\n",
    "        except:\n",
    "            print(\"Assertion error at line {}\".format(index))\n",
    "            print(row[6], row[8], row[9])"
   ]
  },
  {
   "cell_type": "code",
   "execution_count": null,
   "metadata": {},
   "outputs": [],
   "source": []
  }
 ],
 "metadata": {
  "kernelspec": {
   "display_name": "Python 3",
   "language": "python",
   "name": "python3"
  },
  "language_info": {
   "codemirror_mode": {
    "name": "ipython",
    "version": 3
   },
   "file_extension": ".py",
   "mimetype": "text/x-python",
   "name": "python",
   "nbconvert_exporter": "python",
   "pygments_lexer": "ipython3",
   "version": "3.6.4"
  }
 },
 "nbformat": 4,
 "nbformat_minor": 2
}
