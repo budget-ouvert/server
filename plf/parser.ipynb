{
 "cells": [
  {
   "cell_type": "markdown",
   "metadata": {},
   "source": [
    "# Aggrégation des fichiers de data.gouv.fr pour les PLF et PLR"
   ]
  },
  {
   "cell_type": "code",
   "execution_count": 1,
   "metadata": {},
   "outputs": [],
   "source": [
    "import csv\n",
    "import os\n",
    "\n",
    "from tqdm import tqdm"
   ]
  },
  {
   "cell_type": "markdown",
   "metadata": {},
   "source": [
    "## Décodage des fichiers\n",
    "Les fichiers ne sont pas dans le bon encoding, il faut les réécrire."
   ]
  },
  {
   "cell_type": "code",
   "execution_count": 2,
   "metadata": {},
   "outputs": [],
   "source": [
    "RAW_FOLDER = './raw_data/plf_2019'\n",
    "DECODED_FOLDER = './decoded_data/plf_2019'\n",
    "\n",
    "if not os.path.exists(DECODED_FOLDER):\n",
    "    os.makedirs(DECODED_FOLDER)"
   ]
  },
  {
   "cell_type": "code",
   "execution_count": 3,
   "metadata": {},
   "outputs": [],
   "source": [
    "for fileName in os.listdir(RAW_FOLDER):\n",
    "    os.system('iconv -f ISO-8859-1 -t UTF-8 {} > {}'.format(os.path.join(RAW_FOLDER, fileName), os.path.join(DECODED_FOLDER, fileName)))"
   ]
  },
  {
   "cell_type": "markdown",
   "metadata": {},
   "source": [
    "## PLF"
   ]
  },
  {
   "cell_type": "markdown",
   "metadata": {},
   "source": [
    "Pour une année donnée, on récupère les **Autorisations d'engagements** et les **Crédits de Paiement** par `Type de mission` > `Mission` > `Programme` > `Action`.\n",
    "\n",
    "Le but est de générer un fichier avec les colonnes suivantes :<br>\n",
    "`Type de mission` ; `Code Type de Mission` ; `Mission` ; `Code Mission` ; `Programme` ; `Code Programme` ; `Action` ; `Code Action` ; `Autorisations d'engagements` ; `Crédits de paiement`"
   ]
  },
  {
   "cell_type": "markdown",
   "metadata": {},
   "source": [
    "### 2019"
   ]
  },
  {
   "cell_type": "code",
   "execution_count": 4,
   "metadata": {},
   "outputs": [],
   "source": [
    "SOURCE_FOLDER = './decoded_data/plf_2019'\n",
    "TARGET_FOLDER = './parsed_data'\n",
    "\n",
    "type_de_mission_to_code = {\n",
    "    \"Budget général\": \"BG\",\n",
    "    \"Budgets annexes\": \"BA\",\n",
    "    \"Comptes d'affectation spéciale\": \"CS\",\n",
    "    \"Comptes de concours financiers\": \"CF\"\n",
    "}"
   ]
  },
  {
   "cell_type": "code",
   "execution_count": 5,
   "metadata": {},
   "outputs": [],
   "source": [
    "mission_to_code = {}\n",
    "\n",
    "with open(os.path.join(SOURCE_FOLDER, 'plf2019-nomenclature-mpa.csv'), 'r') as csv_file:\n",
    "    csv_reader = csv.reader(csv_file, delimiter=';')\n",
    "    # On saute la première ligne parce que c'est un header\n",
    "    next(csv_reader, None)\n",
    "\n",
    "    for row in csv_reader:\n",
    "        code_mission = row[2]\n",
    "        mission = row[3]\n",
    "\n",
    "        mission_to_code[mission] = code_mission"
   ]
  },
  {
   "cell_type": "code",
   "execution_count": 18,
   "metadata": {},
   "outputs": [
    {
     "ename": "ValueError",
     "evalue": "invalid literal for int() with base 10: \"Pensionsmilitairesd'invaliditédevictimesdeguerreetallocationsrattachées\"",
     "output_type": "error",
     "traceback": [
      "\u001b[0;31m---------------------------------------------------------------------------\u001b[0m",
      "\u001b[0;31mValueError\u001b[0m                                Traceback (most recent call last)",
      "\u001b[0;32m<ipython-input-18-cd90e834bbcb>\u001b[0m in \u001b[0;36m<module>\u001b[0;34m()\u001b[0m\n\u001b[1;32m     29\u001b[0m \u001b[0;34m\u001b[0m\u001b[0m\n\u001b[1;32m     30\u001b[0m                 \u001b[0mcredits_paiement\u001b[0m \u001b[0;34m=\u001b[0m \u001b[0mint\u001b[0m\u001b[0;34m(\u001b[0m\u001b[0mrow\u001b[0m\u001b[0;34m[\u001b[0m\u001b[0;36m9\u001b[0m\u001b[0;34m]\u001b[0m\u001b[0;34m.\u001b[0m\u001b[0mreplace\u001b[0m\u001b[0;34m(\u001b[0m\u001b[0;34m' '\u001b[0m\u001b[0;34m,\u001b[0m \u001b[0;34m''\u001b[0m\u001b[0;34m)\u001b[0m\u001b[0;34m)\u001b[0m \u001b[0;32mif\u001b[0m \u001b[0mrow\u001b[0m\u001b[0;34m[\u001b[0m\u001b[0;36m9\u001b[0m\u001b[0;34m]\u001b[0m\u001b[0;34m.\u001b[0m\u001b[0mreplace\u001b[0m\u001b[0;34m(\u001b[0m\u001b[0;34m' '\u001b[0m\u001b[0;34m,\u001b[0m \u001b[0;34m''\u001b[0m\u001b[0;34m)\u001b[0m \u001b[0;34m!=\u001b[0m \u001b[0;34m''\u001b[0m \u001b[0;32melse\u001b[0m \u001b[0;36m0\u001b[0m\u001b[0;34m\u001b[0m\u001b[0m\n\u001b[0;32m---> 31\u001b[0;31m                 \u001b[0mautorisations_engagement\u001b[0m \u001b[0;34m=\u001b[0m \u001b[0mint\u001b[0m\u001b[0;34m(\u001b[0m\u001b[0mrow\u001b[0m\u001b[0;34m[\u001b[0m\u001b[0;36m8\u001b[0m\u001b[0;34m]\u001b[0m\u001b[0;34m.\u001b[0m\u001b[0mreplace\u001b[0m\u001b[0;34m(\u001b[0m\u001b[0;34m' '\u001b[0m\u001b[0;34m,\u001b[0m \u001b[0;34m''\u001b[0m\u001b[0;34m)\u001b[0m\u001b[0;34m)\u001b[0m \u001b[0;32mif\u001b[0m \u001b[0mrow\u001b[0m\u001b[0;34m[\u001b[0m\u001b[0;36m8\u001b[0m\u001b[0;34m]\u001b[0m\u001b[0;34m.\u001b[0m\u001b[0mreplace\u001b[0m\u001b[0;34m(\u001b[0m\u001b[0;34m' '\u001b[0m\u001b[0;34m,\u001b[0m \u001b[0;34m''\u001b[0m\u001b[0;34m)\u001b[0m \u001b[0;34m!=\u001b[0m \u001b[0;34m''\u001b[0m \u001b[0;32melse\u001b[0m \u001b[0;36m0\u001b[0m\u001b[0;34m\u001b[0m\u001b[0m\n\u001b[0m\u001b[1;32m     32\u001b[0m \u001b[0;34m\u001b[0m\u001b[0m\n\u001b[1;32m     33\u001b[0m                 \u001b[0;31m# On écrit dans le fichier cible toutes les informations utiles\u001b[0m\u001b[0;34m\u001b[0m\u001b[0;34m\u001b[0m\u001b[0m\n",
      "\u001b[0;31mValueError\u001b[0m: invalid literal for int() with base 10: \"Pensionsmilitairesd'invaliditédevictimesdeguerreetallocationsrattachées\""
     ]
    }
   ],
   "source": [
    "type_de_mission_to_filename = {\n",
    "    \"Budget général\": \"bg\",\n",
    "    \"Budgets annexes\": \"ba\",\n",
    "    \"Comptes d'affectation spéciale\": \"cs\",\n",
    "    \"Comptes de concours financiers\": \"cf\"\n",
    "}\n",
    "\n",
    "with open(os.path.join(TARGET_FOLDER, 'plf_2019.csv'), 'w+') as output_file:\n",
    "    # Écrire les headers\n",
    "    output_file.write(\"Type de mission;Code type de mission;Mission;Code mission;Programme;Code programme;Action;Code action;Autorisations d'engagement;Crédits de paiement\\n\")\n",
    "\n",
    "    # On ouvre chacun des fichiers...\n",
    "    for type_de_mission in type_de_mission_to_code:\n",
    "        code_type_de_mission = type_de_mission_to_code[type_de_mission]\n",
    "        code_filename = type_de_mission_to_filename[type_de_mission]\n",
    "\n",
    "        with open(os.path.join(\n",
    "            SOURCE_FOLDER,\n",
    "            'plf2019-{}-msn-dest.csv'.format(code_filename)), 'r') as csv_file:\n",
    "            \n",
    "            csv_reader = csv.reader(csv_file, delimiter=';')\n",
    "            # On saute la première ligne parce que c'est un header\n",
    "            next(csv_reader, None)\n",
    "            \n",
    "            for index, row in enumerate(csv_reader):\n",
    "                # Petite subtilité pour le cas 2019, certains documents csv ont trop de lignes (il y a des lignes vides à la fin)\n",
    "                if (row[2] == ''):\n",
    "                    continue\n",
    "                    \n",
    "                credits_paiement = int(row[9].replace(' ', '')) if row[9].replace(' ', '') != '' else 0\n",
    "                autorisations_engagement = int(row[8].replace(' ', '')) if row[8].replace(' ', '') != '' else 0\n",
    "\n",
    "                # On écrit dans le fichier cible toutes les informations utiles\n",
    "                output_file.write('{};{};{};{};{};{};{};{};{};{}\\n'.format(\n",
    "                    type_de_mission,\n",
    "                    code_type_de_mission,\n",
    "                    row[2],\n",
    "                    mission_to_code[row[2]],\n",
    "                    row[4],\n",
    "                    row[3],\n",
    "                    row[6],\n",
    "                    row[5],\n",
    "                    autorisations_engagement,\n",
    "                    credits_paiement\n",
    "                ))"
   ]
  },
  {
   "cell_type": "markdown",
   "metadata": {},
   "source": [
    "### Tests génériques"
   ]
  },
  {
   "cell_type": "code",
   "execution_count": 11,
   "metadata": {},
   "outputs": [],
   "source": [
    "TEST_FILENAME = 'plf_2019.csv'"
   ]
  },
  {
   "cell_type": "markdown",
   "metadata": {},
   "source": [
    "Vérifie que les lignes ont le bon nombre de colonnes."
   ]
  },
  {
   "cell_type": "code",
   "execution_count": 12,
   "metadata": {},
   "outputs": [],
   "source": [
    "with open(os.path.join(TARGET_FOLDER, TEST_FILENAME), 'r') as csv_file:\n",
    "    csv_reader = csv.reader(csv_file, delimiter=';')\n",
    "\n",
    "    for index, row in enumerate(csv_reader):\n",
    "        try:\n",
    "            assert(len(row) == 10)\n",
    "        except:\n",
    "            print(\"Assertion error at line {}\".format(index))\n",
    "            print(*row)"
   ]
  },
  {
   "cell_type": "markdown",
   "metadata": {},
   "source": [
    "Vérifie qu'il n'y a pas d'action, de CP ou d'AE vides."
   ]
  },
  {
   "cell_type": "code",
   "execution_count": 17,
   "metadata": {},
   "outputs": [
    {
     "name": "stdout",
     "output_type": "stream",
     "text": [
      "Assertion error at line 68\n",
      "Actions de co-développement  \n",
      "Assertion error at line 76\n",
      "Solidarité  \n",
      "Assertion error at line 79\n",
      "Solidarité  \n",
      "Assertion error at line 99\n",
      "Grand Paris  \n",
      "Assertion error at line 105\n",
      "Plan gouvernemental sur le Marais Poitevin - Poitou Charentes  1594345\n",
      "Assertion error at line 169\n",
      "Préparation des forces aériennes  \n",
      "Assertion error at line 176\n",
      "Surcoûts liés aux opérations intérieures  \n",
      "Assertion error at line 235\n",
      "Dissuasion  76526998\n",
      "Assertion error at line 241\n",
      "Dissuasion  148478840\n",
      "Assertion error at line 244\n",
      "Commandement et maîtrise de l'information  64611295\n",
      "Assertion error at line 246\n",
      "Commandement et maîtrise de l'information  100129950\n",
      "Assertion error at line 249\n",
      "Commandement et maîtrise de l'information  189444531\n",
      "Assertion error at line 251\n",
      "Commandement et maîtrise de l'information  105078113\n",
      "Assertion error at line 252\n",
      "Commandement et maîtrise de l'information  70308678\n",
      "Assertion error at line 253\n",
      "Commandement et maîtrise de l'information  56008160\n",
      "Assertion error at line 256\n",
      "Projection - mobilité - soutien  5533658\n",
      "Assertion error at line 259\n",
      "Projection - mobilité - soutien  877871\n",
      "Assertion error at line 261\n",
      "Projection - mobilité - soutien  362762572\n",
      "Assertion error at line 262\n",
      "Engagement et combat  48844735\n",
      "Assertion error at line 265\n",
      "Engagement et combat  15727008\n",
      "Assertion error at line 266\n",
      "Engagement et combat  122598389\n",
      "Assertion error at line 267\n",
      "Engagement et combat  45451684\n",
      "Assertion error at line 269\n",
      "Engagement et combat  289318338\n",
      "Assertion error at line 274\n",
      "Engagement et combat  95266544\n",
      "Assertion error at line 275\n",
      "Engagement et combat  224430525\n",
      "Assertion error at line 277\n",
      "Protection et sauvegarde  \n",
      "Assertion error at line 282\n",
      "Parts étrangères et programmes civils  \n",
      "Assertion error at line 283\n",
      "Parts étrangères et programmes civils  \n",
      "Assertion error at line 304\n",
      "Routes - Développement  \n",
      "Assertion error at line 313\n",
      "Sécurité ferroviaire  \n",
      "Assertion error at line 320\n",
      "Gestion durable des Pêches et de  l'Aquaculture  \n",
      "Assertion error at line 343\n",
      "Fermeture de la centrale de Fessenheim  91000000\n",
      "Assertion error at line 351\n",
      "Personnels oeuvrant pour les politiques du programme \"Sécurité et éducation routières\"  \n",
      "Assertion error at line 356\n",
      "Personnels relevant de programmes d'autres ministères  \n",
      "Assertion error at line 387\n",
      "Développement international de l'économie française  \n",
      "Assertion error at line 390\n",
      "Développement international de l'économie française  \n",
      "Assertion error at line 391\n",
      "Développement international de l'économie française  \n",
      "Assertion error at line 484\n",
      "Programmes prioritaires de recherche  35000000\n",
      "Assertion error at line 485\n",
      "Équipements structurants de recherche  40000000\n",
      "Assertion error at line 486\n",
      "Soutien des grandes universités de recherche  35000000\n",
      "Assertion error at line 487\n",
      "Constitution d'écoles universitaires de recherche  20000000\n",
      "Assertion error at line 488\n",
      "Créations expérimentales de sociétés universitaires et scientifiques  50000000\n",
      "Assertion error at line 489\n",
      "Territoires d'innovation pédagogique  20000000\n",
      "Assertion error at line 491\n",
      "Fonds national post-maturation \"Frontier venture\"  0\n",
      "Assertion error at line 492\n",
      "Démonstrateurs et territoires d'innovation de grande ambition  330000000\n",
      "Assertion error at line 493\n",
      "Nouveaux écosystèmes d'innovation  15000000\n",
      "Assertion error at line 494\n",
      "Accélération du développement des écosystèmes d'innovation performants  78000000\n",
      "Assertion error at line 496\n",
      "Accompagnement et transformation des filières  240000000\n",
      "Assertion error at line 497\n",
      "Industrie du futur  0\n",
      "Assertion error at line 498\n",
      "Adaptation et qualification de la main d'oeuvre  25000000\n",
      "Assertion error at line 499\n",
      "Concours d'innovation  55000000\n",
      "Assertion error at line 500\n",
      "Fonds national d'amorçage n° 2  0\n",
      "Assertion error at line 501\n",
      "Fonds à l'internationalisation des PME  0\n",
      "Assertion error at line 502\n",
      "Fonds de fonds \"Multicap Croissance\" n° 2  0\n",
      "Assertion error at line 503\n",
      "Grands défis  0\n",
      "Assertion error at line 521\n",
      "Indemnisation des avoués  \n",
      "Assertion error at line 552\n",
      "Musée du Luxembourg  \n",
      "Assertion error at line 640\n",
      "Soutien à l'investissement - Part métropoles  \n",
      "Assertion error at line 654\n",
      "Remboursements et dégrèvements liées à des politiques publiques  \n",
      "Assertion error at line 675\n",
      "Projets régionaux de santé  \n",
      "Assertion error at line 747\n",
      "Comité d'organisation des jeux olympiques et paralympiques  \n",
      "Assertion error at line 748\n",
      "Haute performance des jeux olympiques et paralympiques  \n",
      "Assertion error at line 749\n",
      "Héritage des jeux olympiques et paralympiques  \n",
      "Assertion error at line 765\n",
      "Lutte contre le travail illégal  \n",
      "Assertion error at line 766\n",
      "Fonds social européen - Assistance technique  \n",
      "Assertion error at line 790\n",
      "Promotion et distribution des publications  \n",
      "Assertion error at line 817\n",
      "Déclaration d'utilité publique (Très haute tension) - (Engagements antérieurs au 1er janvier 2013)  \n",
      "Assertion error at line 818\n",
      "Intempéries - (Engagements antérieurs au 1er janvier 2013)  \n",
      "Assertion error at line 833\n",
      "Versements au profit du Mécanisme européen de stabilité  \n",
      "Assertion error at line 853\n",
      "Frais d'enquêtes, d'études et de conseil relatifs au matériel roulant des services nationaux de transport conventionnés  \n",
      "Assertion error at line 874\n",
      "Avances de l'article 14 de la loi n° 46-2921 du 23 décembre 1946 et de l'article L. 2237-2 du code général des collectivités territoriales  \n",
      "Assertion error at line 875\n",
      "Avances de l'article 34 de la loi n° 53-1336 du 31 décembre 1953 (avances spéciales sur recettes budgétaires)  \n",
      "Assertion error at line 876\n",
      "Avances à la Nouvelle-Calédonie, au titre de la fiscalité du nickel  \n"
     ]
    }
   ],
   "source": [
    "with open(os.path.join(TARGET_FOLDER, TEST_FILENAME), 'r') as csv_file:\n",
    "    csv_reader = csv.reader(csv_file, delimiter=';')\n",
    "\n",
    "    for index, row in enumerate(csv_reader):\n",
    "        try:\n",
    "            assert(row[6] != '' and row[8] != '' and row[9] != '')\n",
    "        except:\n",
    "            print(\"Assertion error at line {}\".format(index))\n",
    "            print(row[6], row[8], row[9])"
   ]
  },
  {
   "cell_type": "code",
   "execution_count": null,
   "metadata": {},
   "outputs": [],
   "source": []
  }
 ],
 "metadata": {
  "kernelspec": {
   "display_name": "Python 3",
   "language": "python",
   "name": "python3"
  },
  "language_info": {
   "codemirror_mode": {
    "name": "ipython",
    "version": 3
   },
   "file_extension": ".py",
   "mimetype": "text/x-python",
   "name": "python",
   "nbconvert_exporter": "python",
   "pygments_lexer": "ipython3",
   "version": "3.6.4"
  }
 },
 "nbformat": 4,
 "nbformat_minor": 2
}
